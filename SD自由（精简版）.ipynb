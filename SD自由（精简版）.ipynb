{
  "cells": [
    {
      "cell_type": "markdown",
      "metadata": {
        "id": "CO5e9VNlav3s"
      },
      "source": [
        "_（以下用缩写 sd 表示 \\[Base64\\](c3RhYmxlLWRpZmZ1c2lvbg==)。）_"
      ]
    },
    {
      "cell_type": "markdown",
      "metadata": {
        "id": "_FqKFS0YaepU"
      },
      "source": [
        "# SD自由\n",
        "\n",
        "文字说明较详细的精简版：[![Open In Colab](https://colab.research.google.com/assets/colab-badge.svg)](https://colab.research.google.com/drive/1RKn-X04sf8VtxnUECxQyPnYKOMw0j3P0)\n",
        "\n",
        "本笔记本属于 [这个 github 项目](https://github.com/adpitacor/sd-webui-on-colab)。如果发现本笔记本的问题（如注释有误，错别字等）或运行中遇到问题，或者 colab 版和仓库版没有同步更新，又或者想提点建议，欢迎来提 issue。\n",
        "\n",
        "温馨提示：\n",
        "\n",
        "- 请在 `Edit`（修改）-> `Notebook settings`（笔记本设置）中，把 `Hareware acceleterator`（硬件加速器）选项设置为 `GPU`。\n",
        "\n",
        "- 不要用 `Run All`（全部运行），请至少粗略阅读单元格附加的文字说明再运行。\n",
        "\n",
        "- 单元格运行中途报错都是意料之中，判断运行有问题的唯一标准是单元格结束运行而未清空输出并留下简短的运行完成提示句（对于 3. 则是单元格在未手动结束运行自动终止）。\n",
        "\n",
        "- 单元格 3. 启动后会持续运行，若启动后希望运行其他单元格必须先手动停止该单元格的运行。\n",
        "\n",
        "希望本笔记本可以让你实现一定程度上的“SD自由”。"
      ]
    },
    {
      "cell_type": "code",
      "execution_count": null,
      "metadata": {
        "id": "d3cXG2jmm8bP"
      },
      "outputs": [],
      "source": [
        "#@title ## 0. 前置配置\n",
        "\n",
        "#@markdown 本单元格将进行一些必要的设置，以做好安装 webui 的准备。\n",
        "#@markdown\n",
        "#@markdown 大致运行内容：\n",
        "#@markdown\n",
        "#@markdown 1. 安装「安装 webui」所需的包（主要是 venv，其他应该本来就有）；\n",
        "#@markdown\n",
        "#@markdown 1. 添加非 root 用户并适当放权，供运行 webui.sh 使用。\n",
        "\n",
        "from IPython.display import clear_output as cls\n",
        "%cd /content\n",
        "\n",
        "!apt install -y -qq wget git python3 python3-venv\n",
        "\n",
        "!useradd guest0721\n",
        "!mkdir /home/guest0721\n",
        "!chmod 777 /home -R\n",
        "!chmod 777 /content -R\n",
        "!chmod 777 /tmp -R\n",
        "!chmod 777 /var -R 2>/dev/null\n",
        "\n",
        "%cd /content\n",
        "cls()\n",
        "!echo \"Finished.\""
      ]
    },
    {
      "cell_type": "code",
      "execution_count": null,
      "metadata": {
        "id": "cFeYuR-qnJzg"
      },
      "outputs": [],
      "source": [
        "#@title ## 1. 预运行 webui.sh\n",
        "\n",
        "#@markdown 本单元格将预运行 `webui.sh` 拉取 webui 包并进行一些设置，确保接下来本地的 `webui.sh` 可以顺利运行并开启 webui 服务。\n",
        "#@markdown\n",
        "#@markdown 大致运行内容：\n",
        "#@markdown\n",
        "#@markdown 1. 获取 github 上的 webui.sh 并在本地运行（只能做到拉取 webui 包）；\n",
        "#@markdown\n",
        "#@markdown 1. 调整 venv 并为 launch.py 启用 --share 命令行参数。\n",
        "\n",
        "from IPython.display import clear_output as cls\n",
        "%cd /content\n",
        "\n",
        "!>  /tmp/cmd.txt\n",
        "!>> /tmp/cmd.txt echo 'bash -c \"bash <(wget -qO- https://raw.githubusercontent.com/AUTOMATIC1111/sta''ble-diff''usion-web''ui/master/webui.sh)\"'\n",
        "!>> /tmp/cmd.txt echo \"mv sta\"\"ble-dif\"\"fusion-web\"\"ui webui\"\n",
        "!>> /tmp/cmd.txt echo \"cd webui\"\n",
        "!>> /tmp/cmd.txt echo \"wget -qO /tmp/get-pip.py https://bootstrap.pypa.io/get-pip.py\"\n",
        "!>> /tmp/cmd.txt echo \"venv/bin/python3 /tmp/get-pip.py\"\n",
        "!>> /tmp/cmd.txt echo \"python3 -m venv venv/ --without-pip\"\n",
        "!>> /tmp/cmd.txt echo \"sed -i 's/#export COMMANDLINE_ARGS=\\\"\\\"/export COMMANDLINE_ARGS=\\\"--share\\\"/g' webui-user.sh\"\n",
        "!>> /tmp/cmd.txt echo \"exit\"\n",
        "\n",
        "!<  /tmp/cmd.txt su guest0721\n",
        "\n",
        "%cd /content\n",
        "cls()\n",
        "!echo \"Terminated.\""
      ]
    },
    {
      "cell_type": "code",
      "execution_count": null,
      "metadata": {
        "id": "Daj_-BGw8LG-"
      },
      "outputs": [],
      "source": [
        "#@title ## 2.（可选，但不完全可选）下载大模型\n",
        "\n",
        "#@markdown 本单元块旨在预先下载大模型。\n",
        "#@markdown\n",
        "#@markdown 当然，要安装 LoRA、插件之类的也请在这里先安装。\n",
        "\n",
        "from IPython.display import clear_output as cls\n",
        "%cd /content/webui/models\n",
        "\n",
        "!apt install -y -qq aria2\n",
        "\n",
        "!>  /tmp/uri.txt\n",
        "!>> /tmp/uri.txt echo \"https://civitai.com/api/download/models/30163\"\n",
        "!>> /tmp/uri.txt echo \"  out=AnythingV5Ink_v5PrtRE.safetensors\"\n",
        "!>> /tmp/uri.txt echo \"https://huggingface.co/ckpt/anything-v4.5-vae-swapped/resolve/main/anything-v4.5-vae-swapped.safetensors\"\n",
        "!>> /tmp/uri.txt echo \"  out=anything-v4.5-vae-swapped.safetensors\"\n",
        "!>> /tmp/uri.txt echo \"https://huggingface.co/PWB/starlake/resolve/main/starlake-3.5.safetensors\"\n",
        "!>> /tmp/uri.txt echo \"  out=starlake-3.5.safetensors\"\n",
        "!>> /tmp/uri.txt echo \"https://huggingface.co/gsdf/Counterfeit-V3.0/resolve/main/Counterfeit-V3.0_fp16.safetensors\"\n",
        "!>> /tmp/uri.txt echo \"  out=Counterfeit-V3.0_fp16.safetensors\"\n",
        "!aria2c -i /tmp/uri.txt --summary-interval=5 -x 3 --allow-overwrite=true -d Stable-diffusion\n",
        "\n",
        "!>  /tmp/uri.txt\n",
        "!>> /tmp/uri.txt echo \"https://huggingface.co/a1079602570/animefull-final-pruned/resolve/main/animevae.pt\"\n",
        "!>> /tmp/uri.txt echo \"  out=animevae.pt\"\n",
        "!aria2c -i /tmp/uri.txt --summary-interval=5 -x 3 --allow-overwrite=true -d VAE\n",
        "\n",
        "# 要安装其他诸如 LoRA、插件之类的请在此手动添加代码安装\n",
        "\n",
        "%cd /content\n",
        "cls()\n",
        "!echo \"Finished.\""
      ]
    },
    {
      "cell_type": "code",
      "execution_count": null,
      "metadata": {
        "id": "0VWfidWZZ4cs"
      },
      "outputs": [],
      "source": [
        "#@title ## 3. 启动 webui\n",
        "\n",
        "#@markdown 本单元格将运行本地的 webui.sh，正式启动 webui。\n",
        "#@markdown\n",
        "#@markdown 请耐心等待，等到 `Running on public URL: https://*.gradio.live` 一行输出后，复制链接（此即公链）并访问，即可打开 webui。国内也可访问此公链。\n",
        "#@markdown\n",
        "#@markdown 初次运行需要安装所需的模块，用时相对较长，属正常现象。\n",
        "#@markdown\n",
        "#@markdown 注意，请在运行前确认所需的模型、插件等都已安装。\n",
        "\n",
        "from IPython.display import clear_output as cls\n",
        "%cd /content/webui\n",
        "\n",
        "!>  /tmp/cmd.txt\n",
        "!>> /tmp/cmd.txt echo \"./webui.sh\"\n",
        "!>> /tmp/cmd.txt echo \"exit\"\n",
        "\n",
        "!<  /tmp/cmd.txt su guest0721\n",
        "\n",
        "%cd /content\n",
        "cls()\n",
        "!echo \"Terminated.\""
      ]
    },
    {
      "cell_type": "code",
      "execution_count": null,
      "metadata": {
        "id": "tpXaeRsUWPH5"
      },
      "outputs": [],
      "source": [
        "#@title ## 4.（可选）把所有生成出来的图片打包带走\n",
        "\n",
        "#@markdown 本单元格提供了一种下载已生成的图片的方式。\n",
        "#@markdown\n",
        "#@markdown 单元格运行完成后会输出一个链接，访问该链接即可在第三方文件托管平台（[gofile.io](https://gofile.io/)，国内可访问）下载到图片压缩包。\n",
        "#@markdown\n",
        "#@markdown 当然，你也可以在 webui 中保存图片，而且那样做风险或许小些——要是笔记本连接真的被强制掐断，文件就都没了。\n",
        "\n",
        "from IPython.display import clear_output as cls\n",
        "%cd /content\n",
        "\n",
        "!rm -f images.zip\n",
        "!zip -r images.zip webui/outputs\n",
        "\n",
        "from subprocess import check_output\n",
        "from json import loads\n",
        "try:\n",
        "  res = loads(check_output([\"curl\", \"https://api.gofile.io/getServer\"]))\n",
        "  assert res[\"status\"] == \"ok\"\n",
        "  srv = res[\"data\"][\"server\"]\n",
        "  res = loads(check_output([\"curl\", \"-F\", \"file=@images.zip\", f\"https://{srv}.gofile.io/uploadFile\"]))\n",
        "  assert res[\"status\"] == \"ok\"\n",
        "  url = res[\"data\"][\"downloadPage\"]\n",
        "except:\n",
        "  ok = False\n",
        "else:\n",
        "  ok = True\n",
        "\n",
        "%cd /content\n",
        "cls()\n",
        "if ok: print(\"link:\", url)\n",
        "else:  print(\"Failed to upload images.zip\")"
      ]
    }
  ],
  "metadata": {
    "colab": {
      "provenance": [],
      "private_outputs": true,
      "gpuType": "T4"
    },
    "kernelspec": {
      "display_name": "Python 3",
      "name": "python3"
    },
    "language_info": {
      "name": "python"
    }
  },
  "nbformat": 4,
  "nbformat_minor": 0
}